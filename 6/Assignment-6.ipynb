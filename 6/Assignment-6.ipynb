{
 "cells": [
  {
   "cell_type": "code",
   "execution_count": 1,
   "metadata": {
    "scrolled": true
   },
   "outputs": [],
   "source": [
    "import numpy as np\n",
    "import pandas as pd\n",
    "from scipy.stats import norm\n",
    "from sklearn.model_selection import train_test_split\n",
    "from sklearn.metrics import f1_score\n",
    "import matplotlib.pyplot as plt"
   ]
  },
  {
   "cell_type": "markdown",
   "metadata": {},
   "source": [
    "# 1st Ans"
   ]
  },
  {
   "cell_type": "markdown",
   "metadata": {},
   "source": [
    "Part-(a)"
   ]
  },
  {
   "cell_type": "markdown",
   "metadata": {},
   "source": [
    "Pre-processing of data"
   ]
  },
  {
   "cell_type": "code",
   "execution_count": 2,
   "metadata": {
    "scrolled": true
   },
   "outputs": [],
   "source": [
    "data=pd.read_csv('iris.csv')"
   ]
  },
  {
   "cell_type": "code",
   "execution_count": 3,
   "metadata": {
    "scrolled": true
   },
   "outputs": [],
   "source": [
    "data.columns\n",
    "cols=['sepal length','petal width']\n",
    "total=data[cols+['iris']]\n",
    "X=data[cols]\n",
    "y=data['iris']"
   ]
  },
  {
   "cell_type": "code",
   "execution_count": 4,
   "metadata": {
    "scrolled": false
   },
   "outputs": [],
   "source": [
    "from sklearn.utils import shuffle\n",
    "X_shuffled = shuffle(X,random_state=7)\n",
    "X_shuffled=X_shuffled.reset_index()\n",
    "X_new=X_shuffled[['sepal length','petal width']]\n",
    "y_shuffled=shuffle(y,random_state=7).reset_index()\n",
    "y_new=y_shuffled['iris']"
   ]
  },
  {
   "cell_type": "code",
   "execution_count": 5,
   "metadata": {
    "scrolled": true
   },
   "outputs": [],
   "source": [
    "def train_test_split(X,y,n):\n",
    "    total=len(X)\n",
    "    count=int((n/100)*total)\n",
    "#     print(count)\n",
    "    training_X=X.iloc[:count].reset_index(drop=True)\n",
    "    testing_X=X.iloc[count:].reset_index(drop=True)\n",
    "    training_y=y.iloc[:count].reset_index(drop=True)\n",
    "    testing_y=y.iloc[count:].reset_index(drop=True)\n",
    "    return training_X,training_y,testing_X,testing_y\n",
    "train_X,train_y,test_X,test_y=train_test_split(X_new,y_new,70)"
   ]
  },
  {
   "cell_type": "code",
   "execution_count": 6,
   "metadata": {
    "scrolled": true
   },
   "outputs": [
    {
     "data": {
      "text/plain": [
       "(array(['Iris-setosa', 'Iris-versicolor', 'Iris-virginica'], dtype=object),\n",
       " array([36, 33, 36], dtype=int64))"
      ]
     },
     "execution_count": 6,
     "metadata": {},
     "output_type": "execute_result"
    }
   ],
   "source": [
    "np.unique(train_y,return_counts=True)"
   ]
  },
  {
   "cell_type": "markdown",
   "metadata": {},
   "source": [
    "Distributions"
   ]
  },
  {
   "cell_type": "code",
   "execution_count": 7,
   "metadata": {
    "scrolled": true
   },
   "outputs": [],
   "source": [
    "f_IS=train_X.iloc[list(np.where(train_y=='Iris-setosa')[0])]\n",
    "f_IVc=train_X.iloc[list(np.where(train_y=='Iris-versicolor')[0])]\n",
    "f_IV=train_X.iloc[list(np.where(train_y=='Iris-virginica')[0])]\n",
    "f_IS1=norm(f_IS['sepal length'].mean(),f_IS['sepal length'].std())\n",
    "f_IVc1=norm(f_IVc['sepal length'].mean(),f_IVc['sepal length'].std())\n",
    "f_IV1=norm(f_IV['sepal length'].mean(),f_IV['sepal length'].std())\n",
    "f_IS2=norm(f_IS['petal width'].mean(),f_IS['petal width'].std())\n",
    "f_IVc2=norm(f_IVc['petal width'].mean(),f_IVc['petal width'].std())\n",
    "f_IV2=norm(f_IV['petal width'].mean(),f_IV['petal width'].std())\n",
    "f_seplen=norm(train_X['sepal length'].mean(),train_X['sepal length'].std())\n",
    "f_petwid=norm(train_X['petal width'].mean(),train_X['petal width'].std())\n",
    "p_IS=len(np.where(train_y=='Iris-setosa')[0])/len(train_y)\n",
    "p_IVc=len(np.where(train_y=='Iris-versicolor')[0])/len(train_y)\n",
    "p_IV=len(np.where(train_y=='Iris-virginica')[0])/len(train_y)"
   ]
  },
  {
   "cell_type": "markdown",
   "metadata": {},
   "source": [
    "Testing Gaussian Naive Bayes"
   ]
  },
  {
   "cell_type": "code",
   "execution_count": 8,
   "metadata": {
    "scrolled": true
   },
   "outputs": [
    {
     "name": "stdout",
     "output_type": "stream",
     "text": [
      "Test accuracy ==> 97.77%\n",
      "f1_score      ==> 0.9781305114638448\n"
     ]
    }
   ],
   "source": [
    "n=len(test_X)\n",
    "preds=[]\n",
    "for i in range(n):\n",
    "    point=list(test_X.iloc[i])\n",
    "    a=f_IS1.pdf(point[0])*f_IS2.pdf(point[1])*p_IS\n",
    "    b=f_IVc1.pdf(point[0])*f_IVc2.pdf(point[1])*p_IVc\n",
    "    c=f_IV1.pdf(point[0])*f_IV2.pdf(point[1])*p_IV\n",
    "    d=max(a,b,c)\n",
    "    if a==d:\n",
    "        preds=preds+['Iris-setosa']\n",
    "    elif b==d:\n",
    "        preds=preds+['Iris-versicolor']\n",
    "    else:\n",
    "        preds=preds+['Iris-virginica']\n",
    "preds=np.array(preds)\n",
    "test_y=np.array(test_y)\n",
    "num=len(np.nonzero(test_y==preds)[0])\n",
    "denom=len(preds)\n",
    "test_acc=(num/denom)*100\n",
    "print('Test accuracy ==> '+str(test_acc)[:5]+'%')\n",
    "print('f1_score      ==> '+str(f1_score(test_y,preds,average='macro')))"
   ]
  },
  {
   "cell_type": "markdown",
   "metadata": {},
   "source": [
    "Part - (b)"
   ]
  },
  {
   "cell_type": "markdown",
   "metadata": {},
   "source": [
    "(i)"
   ]
  },
  {
   "cell_type": "code",
   "execution_count": 9,
   "metadata": {
    "scrolled": true
   },
   "outputs": [],
   "source": [
    "adsflabeled_X,adsflabeled_y,unlabeled_X,unlabeled_y=train_test_split(X_new,y_new,40)\n",
    "labeled_X,labeled_y,test_X,test_y=train_test_split(adsflabeled_X,adsflabeled_y,25)"
   ]
  },
  {
   "cell_type": "code",
   "execution_count": 10,
   "metadata": {
    "scrolled": true
   },
   "outputs": [],
   "source": [
    "def makedists(train_X,train_y):\n",
    "    f_IS=train_X.iloc[list(np.where(train_y=='Iris-setosa')[0])]\n",
    "    f_IVc=train_X.iloc[list(np.where(train_y=='Iris-versicolor')[0])]\n",
    "    f_IV=train_X.iloc[list(np.where(train_y=='Iris-virginica')[0])]\n",
    "    f_IS1=norm(f_IS['sepal length'].mean(),f_IS['sepal length'].std())\n",
    "    f_IVc1=norm(f_IVc['sepal length'].mean(),f_IVc['sepal length'].std())\n",
    "    f_IV1=norm(f_IV['sepal length'].mean(),f_IV['sepal length'].std())\n",
    "    f_IS2=norm(f_IS['petal width'].mean(),f_IS['petal width'].std())\n",
    "    f_IVc2=norm(f_IVc['petal width'].mean(),f_IVc['petal width'].std())\n",
    "    f_IV2=norm(f_IV['petal width'].mean(),f_IV['petal width'].std())\n",
    "    f_seplen=norm(train_X['sepal length'].mean(),train_X['sepal length'].std())\n",
    "    f_petwid=norm(train_X['petal width'].mean(),train_X['petal width'].std())\n",
    "    p_IS=len(np.where(train_y=='Iris-setosa')[0])/len(train_y)\n",
    "    p_IVc=len(np.where(train_y=='Iris-versicolor')[0])/len(train_y)\n",
    "    p_IV=len(np.where(train_y=='Iris-virginica')[0])/len(train_y)\n",
    "    a=[f_IS1,f_IVc1,f_IV1,f_IS2,f_IVc2,f_IV2,f_seplen,f_petwid,p_IS,p_IVc,p_IV]\n",
    "    return a"
   ]
  },
  {
   "cell_type": "code",
   "execution_count": 56,
   "metadata": {
    "scrolled": true
   },
   "outputs": [],
   "source": [
    "def tester(train_X,train_y,test_X,test_y):\n",
    "    a=makedists(train_X,train_y)\n",
    "    f_IS1,f_IVc1,f_IV1,f_IS2,f_IVc2,f_IV2,f_seplen,f_petwid,p_IS,p_IVc,p_IV=a[0],a[1],a[2],a[3],a[4],a[5],a[6],a[7],a[8],a[9],a[10]\n",
    "    n=len(test_X)\n",
    "    preds=[]\n",
    "    for i in range(n):\n",
    "        point=list(test_X.iloc[i])\n",
    "        a=f_IS1.pdf(point[0])*f_IS2.pdf(point[1])*p_IS\n",
    "        b=f_IVc1.pdf(point[0])*f_IVc2.pdf(point[1])*p_IVc\n",
    "        c=f_IV1.pdf(point[0])*f_IV2.pdf(point[1])*p_IV\n",
    "#         dd=a+b+c\n",
    "#         a,b,c=a/(dd),b/dd,c/dd\n",
    "        d=max(a,b,c)\n",
    "        if a==d:\n",
    "            preds=preds+['Iris-setosa']\n",
    "        elif b==d:\n",
    "            preds=preds+['Iris-versicolor']\n",
    "        else:\n",
    "            preds=preds+['Iris-virginica']\n",
    "    preds=np.array(preds)\n",
    "    test_y=np.array(test_y)\n",
    "    num=len(np.nonzero(test_y==preds)[0])\n",
    "    denom=len(preds)\n",
    "    test_acc=(num/denom)*100\n",
    "#     print('Test accuracy ==> '+str(test_acc)[:5]+'%')\n",
    "    return test_acc,preds\n",
    "def leastcalc(train_X,train_y,unlabeled_X,unlabeled_y,test_X,test_y):\n",
    "    a=makedists(train_X,train_y)\n",
    "    f_IS1,f_IVc1,f_IV1,f_IS2,f_IVc2,f_IV2,f_seplen,f_petwid,p_IS,p_IVc,p_IV=a[0],a[1],a[2],a[3],a[4],a[5],a[6],a[7],a[8],a[9],a[10]\n",
    "    n=len(unlabeled_X)\n",
    "    preds=[]\n",
    "    global_var=100\n",
    "    global_index=123123\n",
    "    for i in range(n):\n",
    "        point=list(unlabeled_X.iloc[i])\n",
    "        denom=f_seplen.pdf(point[0])*f_petwid.pdf(point[1])\n",
    "        a=(f_IS1.pdf(point[0])*f_IS2.pdf(point[1])*p_IS)/denom\n",
    "        b=(f_IVc1.pdf(point[0])*f_IVc2.pdf(point[1])*p_IVc)/denom\n",
    "        c=(f_IV1.pdf(point[0])*f_IV2.pdf(point[1])*p_IV)/denom\n",
    "#         dd=a+b+c\n",
    "#         a,b,c=a/dd,b/dd,c/dd\n",
    "        d=np.linalg.norm([a-(1/3),b-(1/3),c-(1/3)])\n",
    "#         print(a+b+c)\n",
    "        if global_var>=d:\n",
    "            global_var=d\n",
    "            global_index=i\n",
    "#     print(global_var,global_index,'asdfassdfasdf')\n",
    "    new_pt=unlabeled_X.iloc[global_index]\n",
    "    train_X.loc[len(train_X)]=new_pt\n",
    "    train_y.loc[len(train_y)]=unlabeled_y.iloc[global_index]\n",
    "    unlabeled_X.drop(unlabeled_X.index[global_index])\n",
    "    unlabeled_y.drop(unlabeled_y.index[global_index])\n",
    "    test_acc,asddfasddsf=tester(train_X,train_y,test_X,test_y)\n",
    "    return train_X,train_y,unlabeled_X,unlabeled_y,test_acc,asddfasddsf"
   ]
  },
  {
   "cell_type": "code",
   "execution_count": 57,
   "metadata": {
    "scrolled": true
   },
   "outputs": [
    {
     "name": "stdout",
     "output_type": "stream",
     "text": [
      "Active learning iterations \n",
      "\n",
      "1 test_accuracy =====> 82.2222%\n",
      "\n",
      "2 test_accuracy =====> 82.2222%\n",
      "\n",
      "3 test_accuracy =====> 84.4444%\n",
      "\n",
      "4 test_accuracy =====> 93.3333%\n",
      "\n",
      "5 test_accuracy =====> 93.3333%\n",
      "\n",
      "6 test_accuracy =====> 93.3333%\n",
      "\n",
      "7 test_accuracy =====> 95.5555%\n",
      "\n",
      "8 test_accuracy =====> 95.5555%\n",
      "\n",
      "9 test_accuracy =====> 95.5555%\n",
      "\n",
      "10 test_accuracy =====> 95.5555%\n"
     ]
    }
   ],
   "source": [
    "adsflabeled_X,adsflabeled_y,unlabeled_X,unlabeled_y=train_test_split(X_new,y_new,40)\n",
    "labeled_X,labeled_y,test_X,test_y=train_test_split(adsflabeled_X,adsflabeled_y,25)\n",
    "print('Active learning iterations ')\n",
    "lc_accs=[]\n",
    "for i in range(10):\n",
    "    print()\n",
    "    labeled_X,labeled_y,unlabeled_X,unlabeled_y,test_acc=leastcalc(labeled_X,labeled_y,unlabeled_X,unlabeled_y,test_X,test_y)\n",
    "    print(str(i+1)+' test_accuracy =====> '+str(test_acc)[:7]+'%')\n",
    "    lc_accs=lc_accs+[test_acc]"
   ]
  },
  {
   "cell_type": "markdown",
   "metadata": {},
   "source": [
    "(ii)"
   ]
  },
  {
   "cell_type": "markdown",
   "metadata": {},
   "source": [
    "(iii)"
   ]
  },
  {
   "cell_type": "code",
   "execution_count": 38,
   "metadata": {},
   "outputs": [],
   "source": [
    "def randcalc(train_X,train_y,unlabeled_X,unlabeled_y,test_X,test_y,seedd):\n",
    "    a=makedists(train_X,train_y)\n",
    "    f_IS1,f_IVc1,f_IV1,f_IS2,f_IVc2,f_IV2,f_seplen,f_petwid,p_IS,p_IVc,p_IV=a[0],a[1],a[2],a[3],a[4],a[5],a[6],a[7],a[8],a[9],a[10]\n",
    "    n=len(unlabeled_X)\n",
    "    np.random.seed(seedd)\n",
    "    global_index=np.random.randint(0,n)\n",
    "    new_pt=unlabeled_X.iloc[global_index]\n",
    "    train_X.loc[len(train_X)]=new_pt\n",
    "    train_y.loc[len(train_y)]=unlabeled_y.iloc[global_index]\n",
    "    unlabeled_X.drop(unlabeled_X.index[global_index])\n",
    "    unlabeled_y.drop(unlabeled_y.index[global_index])\n",
    "    test_acc,asddfasddsf=tester(train_X,train_y,test_X,test_y)\n",
    "    return train_X,train_y,unlabeled_X,unlabeled_y,test_acc"
   ]
  },
  {
   "cell_type": "code",
   "execution_count": 39,
   "metadata": {
    "scrolled": true
   },
   "outputs": [
    {
     "name": "stdout",
     "output_type": "stream",
     "text": [
      "Active learning iterations using random sampling \n",
      "1\n",
      "2\n",
      "3\n",
      "4\n",
      "5\n"
     ]
    }
   ],
   "source": [
    "adsflabeled_X,adsflabeled_y,unlabeled_X,unlabeled_y=train_test_split(X_new,y_new,40)\n",
    "labeled_X,labeled_y,test_X,test_y=train_test_split(adsflabeled_X,adsflabeled_y,25)\n",
    "print('Active learning iterations using random sampling ')\n",
    "accs=[]\n",
    "for j in range(5):\n",
    "    accs2=[]\n",
    "    print(str(j+1))\n",
    "    for i in range(10):\n",
    "        labeled_X,labeled_y,unlabeled_X,unlabeled_y,test_acc=randcalc(labeled_X,labeled_y,unlabeled_X,unlabeled_y,test_X,test_y,j)\n",
    "        accs2=accs2+[test_acc]\n",
    "    adsflabeled_X,adsflabeled_y,unlabeled_X,unlabeled_y=train_test_split(X_new,y_new,40)\n",
    "    labeled_X,labeled_y,test_X,test_y=train_test_split(adsflabeled_X,adsflabeled_y,25)\n",
    "#     print('random_seed'+' test_accuracy =====> \\n'+' '*10+'mean = '+str(np.mean(accs2))[:5]+'%'+' '*5+'std = '+str(np.std(accs2))[:5])\n",
    "    accs=accs+[accs2]\n",
    "# print(accs)"
   ]
  },
  {
   "cell_type": "code",
   "execution_count": 43,
   "metadata": {},
   "outputs": [],
   "source": [
    "accs=np.array(accs)\n",
    "stds=[]\n",
    "means=[]\n",
    "for i in range(10):\n",
    "    means=means+[np.mean(accs[:,i])]\n",
    "    stds=stds+[np.std(accs[:,i])]\n",
    "# print(means)\n",
    "# print(stds)\n",
    "means=np.array(means)\n",
    "stds=np.array(stds)"
   ]
  },
  {
   "cell_type": "code",
   "execution_count": 44,
   "metadata": {},
   "outputs": [],
   "source": [
    "minus_d=list(-stds+means)\n",
    "plus_d=list(stds+means)\n",
    "# print(minus_d)\n",
    "# print(plus_d)"
   ]
  },
  {
   "cell_type": "code",
   "execution_count": 58,
   "metadata": {},
   "outputs": [
    {
     "data": {
      "text/plain": [
       "<matplotlib.legend.Legend at 0x231155ef4e0>"
      ]
     },
     "execution_count": 58,
     "metadata": {},
     "output_type": "execute_result"
    },
    {
     "data": {
      "image/png": "[encoded data removed]",
      "text/plain": [
       "<Figure size 576x504 with 1 Axes>"
      ]
     },
     "metadata": {
      "needs_background": "light"
     },
     "output_type": "display_data"
    }
   ],
   "source": [
    "plt.rcParams[\"figure.figsize\"] = [8,7]\n",
    "plt.plot(list(range(10)),means,label='random_sampling',linewidth=2)\n",
    "ax1=plt.gca()\n",
    "ax1.set_ylim(70,100)\n",
    "ax1.fill_between(list(range(10)),minus_d,plus_d,facecolor='powderblue')\n",
    "plt.xlabel('no.of queries')\n",
    "plt.ylabel('test accuracy')\n",
    "plt.plot(list(range(10)),lc_accs,label='least_confidence_sampling',linewidth=2)\n",
    "plt.title('Active learning vs random sampling')\n",
    "plt.legend(loc='lower right')"
   ]
  }
 ],
 "metadata": {
  "kernelspec": {
   "display_name": "Python 3",
   "language": "python",
   "name": "python3"
  },
  "language_info": {
   "codemirror_mode": {
    "name": "ipython",
    "version": 3
   },
   "file_extension": ".py",
   "mimetype": "text/x-python",
   "name": "python",
   "nbconvert_exporter": "python",
   "pygments_lexer": "ipython3",
   "version": "3.6.8"
  }
 },
 "nbformat": 4,
 "nbformat_minor": 2
}
