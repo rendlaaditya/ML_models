{
 "cells": [
  {
   "cell_type": "code",
   "execution_count": 1,
   "metadata": {},
   "outputs": [],
   "source": [
    "from numpy.linalg import inv\n",
    "import numpy as np\n",
    "from sklearn.model_selection import cross_val_score\n",
    "import pandas as pd\n",
    "from sklearn import linear_model\n",
    "from sklearn.metrics import mean_squared_error, r2_score\n",
    "from sklearn.model_selection import train_test_split\n",
    "import pylab\n",
    "import matplotlib.pyplot as plt\n",
    "import matplotlib.mlab as mlab\n",
    "from math import sqrt\n",
    "from sklearn.linear_model import Ridge, Lasso\n",
    "from sklearn.model_selection import KFold\n",
    "from matplotlib.animation import FuncAnimation\n",
    "import ffmpeg"
   ]
  },
  {
   "cell_type": "markdown",
   "metadata": {},
   "source": [
    "# 1st Ans"
   ]
  },
  {
   "cell_type": "markdown",
   "metadata": {},
   "source": [
    "Part-(a)"
   ]
  },
  {
   "cell_type": "code",
   "execution_count": 166,
   "metadata": {},
   "outputs": [
    {
     "name": "stdout",
     "output_type": "stream",
     "text": [
      "INIT Theta = [[0.]] [[0.]]\n",
      "----------------------------------------\n",
      "Chosen direction = 0\n",
      "current theta = [[0.]] [[0.]]\n",
      "theta[j] = [[0.]]\n",
      "X[:,j] = [[1.]] [[1.]] [[1.]]\n",
      "X*theta = [[0.]] [[0.]] [[0.]]\n",
      "X*theta-X[:,j]*theta[j] = [[0.]] [[0.]] [[0.]]\n",
      "yi-yihat^(-j) =  [[6.]] [[10.]] [[16.]]\n",
      "phoj = X[:,j].T*a \n",
      " =>  = 32.0\n",
      "z =  3.0\n",
      "Theta[0] = [[10.66666667]]\n",
      "----------------------------------------\n",
      "Chosen direction = 1\n",
      "current theta = [[10.66666667]] [[0.]]\n",
      "theta[j] = [[0.]]\n",
      "X[:,j] = [[1.]] [[3.]] [[6.]]\n",
      "X*theta = [[10.66666667]] [[10.66666667]] [[10.66666667]]\n",
      "X*theta-X[:,j]*theta[j] = [[10.66666667]] [[10.66666667]] [[10.66666667]]\n",
      "yi-yihat^(-j) =  [[-4.66666667]] [[-0.66666667]] [[5.33333333]]\n",
      "phoj = X[:,j].T*a \n",
      " =>  = 25.333333333333336\n",
      "z =  46.0\n",
      "Theta[1] = [[0.55072464]]\n",
      "----------------------------------------\n",
      "Chosen direction = 0\n",
      "current theta = [[10.66666667]] [[0.55072464]]\n",
      "theta[j] = [[10.66666667]]\n",
      "X[:,j] = [[1.]] [[1.]] [[1.]]\n",
      "X*theta = [[11.2173913]] [[12.31884058]] [[13.97101449]]\n",
      "X*theta-X[:,j]*theta[j] = [[0.55072464]] [[1.65217391]] [[3.30434783]]\n",
      "yi-yihat^(-j) =  [[5.44927536]] [[8.34782609]] [[12.69565217]]\n",
      "phoj = X[:,j].T*a \n",
      " =>  = 26.492753623188406\n",
      "z =  3.0\n",
      "Theta[0] = [[8.83091787]]\n"
     ]
    },
    {
     "data": {
      "text/plain": [
       "matrix([[8.83091787],\n",
       "        [0.55072464]])"
      ]
     },
     "execution_count": 166,
     "metadata": {},
     "output_type": "execute_result"
    }
   ],
   "source": [
    "def error(predicts,y):\n",
    "    return sqrt(mean_squared_error(predicts,y))\n",
    "def coordinateDescentRegression(X,y):\n",
    "    try:\n",
    "        X=X.values.tolist()\n",
    "        y=y.values.tolist()\n",
    "        n=len(X)\n",
    "        X=[[1]+X[i] for i in range(n)]\n",
    "        X=np.matrix(X)\n",
    "        y=np.matrix(y)\n",
    "    except:\n",
    "        X=np.matrix(X)\n",
    "        y=np.matrix(y)\n",
    "    X=np.c_[np.ones(np.shape(X)[0]),X]\n",
    "    m=X.shape[1]\n",
    "    y=y.T\n",
    "    n=X.shape[0]\n",
    "    theta=np.matrix(list(np.zeros(m))).T\n",
    "    theta=theta*2\n",
    "    print('INIT Theta = '+' '.join(map(str,theta)))\n",
    "    a=X*theta-y\n",
    "    for i in range(3):\n",
    "#         for j in range(len(theta)):\n",
    "        j=i%m\n",
    "        print('-'*40)\n",
    "        print('Chosen direction =',j)\n",
    "        print('current theta = '+' '.join(map(str,theta)))\n",
    "        h=float(theta[j])\n",
    "        print('theta[j] = '+' '.join(map(str,theta[j])))\n",
    "        print('X[:,j] = '+' '.join(map(str,X[:,j])))\n",
    "        print('X*theta = '+' '.join(map(str,X*theta)))\n",
    "#         print('y-X*theta = '+' '.join(map(str,y-X*theta)))\n",
    "        print('X*theta-X[:,j]*theta[j] = '+' '.join(map(str,X*theta-X[:,j]*h)))\n",
    "        a=y-X*theta+X[:,j]*h\n",
    "        print('yi-yihat^(-j) = ',' '.join(map(str,a)))\n",
    "        z=np.sum(np.square(X[:,j]))\n",
    "        phoj=float(X[:,j].T*a)\n",
    "        print('phoj = X[:,j].T*a \\n =>  =',phoj)\n",
    "        print('z = ',z)\n",
    "        theta[j]=phoj/z\n",
    "        print('Theta['+str(j)+'] =',theta[j])\n",
    "    return theta\n",
    "X=[[1],[3],[6]]\n",
    "y=[6,10,16]\n",
    "coordinateDescentRegression(X,y)"
   ]
  },
  {
   "cell_type": "markdown",
   "metadata": {},
   "source": [
    "Part-(b)"
   ]
  },
  {
   "cell_type": "code",
   "execution_count": 167,
   "metadata": {},
   "outputs": [
    {
     "name": "stdout",
     "output_type": "stream",
     "text": [
      "INIT theta =  [[0.]\n",
      " [0.]]\n",
      "--------------------------------------------------\n",
      "Iteration =  0\n",
      "theta =  [[0.]\n",
      " [0.]]\n",
      "X[i,:] =  [[1. 1.]]\n",
      "y[i] =  [[6]]\n",
      "y[i]-X[i,:]*theta =  [[6.]]\n",
      "final theta =  [[0.12]\n",
      " [0.12]]\n",
      "--------------------------------------------------\n",
      "Iteration =  1\n",
      "theta =  [[0.12]\n",
      " [0.12]]\n",
      "X[i,:] =  [[1. 3.]]\n",
      "y[i] =  [[10]]\n",
      "y[i]-X[i,:]*theta =  [[9.52]]\n",
      "final theta =  [[0.3104]\n",
      " [0.6912]]\n",
      "--------------------------------------------------\n",
      "Iteration =  2\n",
      "theta =  [[0.3104]\n",
      " [0.6912]]\n",
      "X[i,:] =  [[1. 6.]]\n",
      "y[i] =  [[16]]\n",
      "y[i]-X[i,:]*theta =  [[11.5424]]\n",
      "final theta =  [[0.541248]\n",
      " [2.076288]]\n"
     ]
    },
    {
     "data": {
      "text/plain": [
       "matrix([[0.541248],\n",
       "        [2.076288]])"
      ]
     },
     "execution_count": 167,
     "metadata": {},
     "output_type": "execute_result"
    }
   ],
   "source": [
    "def error(predicts,y):\n",
    "    return sqrt(mean_squared_error(predicts,y))\n",
    "def sgdRegression(X,y,alpha):\n",
    "    try:\n",
    "        X=X.values.tolist()\n",
    "        y=y.values.tolist()\n",
    "        n=len(X)\n",
    "        X=[[1]+X[i] for i in range(n)]\n",
    "        X=np.matrix(X)\n",
    "        y=np.matrix(y)\n",
    "    except:\n",
    "        X=np.matrix(X)\n",
    "        y=np.matrix(y)\n",
    "    X=np.c_[np.ones(np.shape(X)[0]),X]\n",
    "    m=X.shape[1]\n",
    "    y=y.T\n",
    "    n=X.shape[0]\n",
    "    theta=np.matrix(list(np.zeros(m))).T\n",
    "    theta=theta*5\n",
    "    print('INIT theta = ',theta)\n",
    "    a=X*theta-y\n",
    "    for i in range(3):\n",
    "        i=i%n\n",
    "        thetahat=theta.copy()\n",
    "        print('-'*50)\n",
    "        print('Iteration = ',i)\n",
    "        print('theta = ',theta)\n",
    "        print('X[i,:] = ',' '.join(map(str,X[i,:])))\n",
    "        a=float(X[i,:]*theta-y[i])\n",
    "        print('y[i] = ',y[i])\n",
    "        print('y[i]-X[i,:]*theta = ',y[i]-X[i,:]*theta)\n",
    "        for j in range(len(theta)):\n",
    "            thetahat[j]=thetahat[j]-2*(alpha)*a*X[i,j]\n",
    "        theta=thetahat\n",
    "        print('final theta = ',theta)\n",
    "    return theta\n",
    "# X=X.values.tolist()\n",
    "X=[[1],[3],[6]]\n",
    "y=[6,10,16]\n",
    "sgdRegression(X,y,0.01)"
   ]
  },
  {
   "cell_type": "markdown",
   "metadata": {},
   "source": [
    "# 2nd Ans"
   ]
  },
  {
   "cell_type": "markdown",
   "metadata": {},
   "source": [
    "Part-(a)"
   ]
  },
  {
   "cell_type": "code",
   "execution_count": 168,
   "metadata": {},
   "outputs": [
    {
     "name": "stdout",
     "output_type": "stream",
     "text": [
      "Intercept: [[0.25]]\n",
      "Coefficeints: [[0.83333333]]\n"
     ]
    },
    {
     "data": {
      "text/plain": [
       "matrix([[0.25      ],\n",
       "        [0.83333333]])"
      ]
     },
     "execution_count": 168,
     "metadata": {},
     "output_type": "execute_result"
    }
   ],
   "source": [
    "def normalEquationRegression(X,y,lamda):\n",
    "    from numpy.linalg import inv\n",
    "    try:\n",
    "        X=X.values.tolist()\n",
    "        y=y.values.tolist()\n",
    "        n=len(X)\n",
    "        X=[[1]+X[i] for i in range(n)]\n",
    "        X=np.matrix(X)\n",
    "        y=np.matrix(y)\n",
    "    except:\n",
    "        X=np.matrix(X)\n",
    "        y=np.matrix(y)\n",
    "    X=np.c_[np.ones(np.shape(X)[0]),X]\n",
    "    new=lamda*np.matrix(np.eye(X.shape[1]))\n",
    "    inverted=inv(X.T*X+new)\n",
    "    s=X.T*y.T\n",
    "    theta=inverted*s\n",
    "    print('Intercept:',theta[0])\n",
    "    print('Coefficeints:',theta[1:])\n",
    "    return theta\n",
    "X=[[1],[2],[3]]\n",
    "y=[1,2,3]\n",
    "lamda=1\n",
    "normalEquationRegression(X,y,lamda)"
   ]
  },
  {
   "cell_type": "markdown",
   "metadata": {},
   "source": [
    "Part-(b)"
   ]
  },
  {
   "cell_type": "code",
   "execution_count": 169,
   "metadata": {},
   "outputs": [
    {
     "name": "stdout",
     "output_type": "stream",
     "text": [
      "[[-0.26752924]\n",
      " [ 1.11465539]]\n"
     ]
    }
   ],
   "source": [
    "def error(predicts,y):\n",
    "    return sqrt(mean_squared_error(predicts,y))\n",
    "def coordinateDescentRegression(X,y):\n",
    "    try:\n",
    "        X=X.values.tolist()\n",
    "        y=y.values.tolist()\n",
    "        n=len(X)\n",
    "        X=[[1]+X[i] for i in range(n)]\n",
    "        X=np.matrix(X)\n",
    "        y=np.matrix(y)\n",
    "    except:\n",
    "        X=np.matrix(X)\n",
    "        y=np.matrix(y)\n",
    "    X=np.c_[np.ones(np.shape(X)[0]),X]\n",
    "    m=X.shape[1]\n",
    "    y=y.T\n",
    "    n=X.shape[0]\n",
    "    theta=np.matrix(list(np.random.random(m)+6)).T\n",
    "    theta=theta\n",
    "    a=X*theta-y\n",
    "    b=[]\n",
    "    for i in range(50):\n",
    "        j=i%len(theta)\n",
    "        h=float(theta[j])\n",
    "        a=y-X*theta+X[:,j]*h\n",
    "        z=np.sum(np.square(X[:,j]))\n",
    "        phoj=float(X[:,j].T*a)\n",
    "        theta[j]=phoj/z\n",
    "#         print(float(theta[0]))\n",
    "        b=b+[[float(theta[0]),float(theta[1])]]\n",
    "    return theta,b\n",
    "X=[[1],[2],[3]]\n",
    "y=[1,2,3]\n",
    "theta,allthetas=coordinateDescentRegression(X,y)\n",
    "print(theta)\n",
    "# print(allthetas)"
   ]
  },
  {
   "cell_type": "markdown",
   "metadata": {},
   "source": [
    "Part-(c)"
   ]
  },
  {
   "cell_type": "code",
   "execution_count": 170,
   "metadata": {},
   "outputs": [
    {
     "data": {
      "text/plain": [
       "matrix([[0.        ],\n",
       "        [0.99642857]])"
      ]
     },
     "execution_count": 170,
     "metadata": {},
     "output_type": "execute_result"
    }
   ],
   "source": [
    "def error(predicts,y):\n",
    "    return sqrt(mean_squared_error(predicts,y))\n",
    "def coordinateDescentLasso(X,y,lamda):\n",
    "    try:\n",
    "        X=X.values.tolist()\n",
    "        y=y.values.tolist()\n",
    "        n=len(X)\n",
    "        X=[[1]+X[i] for i in range(n)]\n",
    "        X=np.matrix(X)\n",
    "        y=np.matrix(y)\n",
    "    except:\n",
    "        X=np.matrix(X)\n",
    "        y=np.matrix(y)\n",
    "    X=np.c_[np.ones(np.shape(X)[0]),X]\n",
    "    m=X.shape[1]\n",
    "    y=y.T\n",
    "    n=X.shape[0]\n",
    "    theta=np.matrix(list(np.random.random(m))).T\n",
    "    theta=theta*2\n",
    "    a=X*theta-y\n",
    "    for i in range(1000):\n",
    "        for j in range(len(theta)):\n",
    "            h=float(theta[j])\n",
    "            a=y-X*theta+X[:,j]*h\n",
    "            z=np.sum(np.square(X[:,j]))\n",
    "            phoj=float(X[:,j].T*a)\n",
    "            if phoj<-lamda*0.5:\n",
    "                phoj=phoj+lamda*0.5\n",
    "            elif phoj>lamda*0.5:\n",
    "                phoj=phoj-lamda*0.5\n",
    "            else:\n",
    "                phoj=0\n",
    "            theta[j]=phoj/z\n",
    "    return theta\n",
    "X=[[1],[2],[3]]\n",
    "y=[1,2,3]\n",
    "lamda=0.1\n",
    "coordinateDescentLasso(X,y,lamda)"
   ]
  },
  {
   "cell_type": "markdown",
   "metadata": {},
   "source": [
    "Part-(d)"
   ]
  },
  {
   "cell_type": "code",
   "execution_count": 190,
   "metadata": {
    "scrolled": false
   },
   "outputs": [
    {
     "name": "stdout",
     "output_type": "stream",
     "text": [
      "[[0.01428166]\n",
      " [0.99420431]]\n"
     ]
    }
   ],
   "source": [
    "def error(predicts,y):\n",
    "    return sqrt(mean_squared_error(predicts,y))\n",
    "def sgdRegression(X,y,alpha):\n",
    "    try:\n",
    "        X=X.values.tolist()\n",
    "        y=y.values.tolist()\n",
    "        n=len(X)\n",
    "        X=[[1]+X[i] for i in range(n)]\n",
    "        X=np.matrix(X)\n",
    "        y=np.matrix(y)\n",
    "    except:\n",
    "        X=np.matrix(X)\n",
    "        y=np.matrix(y)\n",
    "    X=np.c_[np.ones(np.shape(X)[0]),X]\n",
    "    m=X.shape[1]\n",
    "    y=y.T\n",
    "    n=X.shape[0]\n",
    "    theta=np.matrix(list(np.zeros(m))).T\n",
    "    theta=theta\n",
    "    a=X*theta-y\n",
    "    b=[]\n",
    "    for i in range(70):\n",
    "        i=i%n\n",
    "        thetahat=theta.copy()\n",
    "        a=float(X[i,:]*theta-y[i])\n",
    "        for j in range(len(theta)):\n",
    "            thetahat[j]=thetahat[j]-2*(alpha)*a*X[i,j]\n",
    "        theta=thetahat\n",
    "        b=b+[[float(theta[0]),float(theta[1])]]\n",
    "    return theta,b\n",
    "# X=X.values.tolist()\n",
    "X=[[1],[2],[3]]\n",
    "y=[1,2,3]\n",
    "theta,alltheta=sgdRegression(X,y,0.12)\n",
    "print(theta)\n",
    "# print(alltheta)"
   ]
  },
  {
   "cell_type": "markdown",
   "metadata": {},
   "source": [
    "Part-(e)"
   ]
  },
  {
   "cell_type": "code",
   "execution_count": 172,
   "metadata": {},
   "outputs": [
    {
     "data": {
      "text/plain": [
       "array([1.97191398, 2.44819444])"
      ]
     },
     "execution_count": 172,
     "metadata": {},
     "output_type": "execute_result"
    }
   ],
   "source": [
    "import autograd.numpy as np\n",
    "def gradientDescentAutogradLasso(X,y,alpha):\n",
    "    def error(theta):\n",
    "        theta=np.matrix(theta).T\n",
    "        a=y-X*theta\n",
    "        return np.mean(np.square(a))+alpha*np.sum(abs(theta))\n",
    "    from autograd import grad\n",
    "    n=len(X)\n",
    "    X=np.matrix(X)\n",
    "    X=np.c_[np.ones(np.shape(X)[0]),X]\n",
    "    m=np.shape(X)[1]\n",
    "    y=np.matrix(y).T\n",
    "#     np.random.seed(7)\n",
    "    theta=np.random.random(m).T\n",
    "#     theta=theta*7\n",
    "    error(theta)\n",
    "    grad_fun=grad(error)\n",
    "    for i in range(100):\n",
    "#         print(theta)\n",
    "        thetahat=theta.copy()\n",
    "#         print(thetahat)\n",
    "        thetahat=thetahat-alpha*grad_fun(thetahat)\n",
    "        theta=thetahat\n",
    "    return theta\n",
    "xnew=[[1],[3],[6]]\n",
    "ynew=[6,10,16]\n",
    "# Xhat=X.values.tolist()\n",
    "# yhat=y.values.tolist()\n",
    "gradientDescentAutogradLasso(xnew,ynew,0.01)"
   ]
  },
  {
   "cell_type": "markdown",
   "metadata": {},
   "source": [
    "# 3rd Ans"
   ]
  },
  {
   "cell_type": "markdown",
   "metadata": {},
   "source": [
    "Part-(a)"
   ]
  },
  {
   "cell_type": "code",
   "execution_count": 204,
   "metadata": {},
   "outputs": [],
   "source": [
    "x = np.array(np.arange(-6, 9, 0.1))\n",
    "y = np.array(np.arange(-6, 9, 0.1))\n",
    "xnew = np.array([[1], [3], [6]])\n",
    "ynew = np.reshape(np.array([[6], [10], [16]]), (3,1))\n",
    "xnew = np.append(np.ones((3,1)), np.reshape(xnew, (3,1)), axis=1)\n",
    "X,Y = np.meshgrid(x, y, sparse=True)\n",
    "X = X.T\n",
    "z = np.zeros((X.shape[0], X.shape[0]))\n",
    "thetahat = np.zeros((2,1))\n",
    "for i in range(X.shape[0]):\n",
    "    for j in range(Y.shape[0]):\n",
    "        thetahat[0, 0] = X[i, 0]\n",
    "        thetahat[1, 0] = Y[j, 0]\n",
    "        z[i,j]=np.sum((xnew.dot(thetahat)-ynew)**2) \n",
    "X, Y = np.meshgrid(X, Y)\n",
    "fig, (ax1,ax2) = plt.subplots(1,2,figsize=(16, 8))\n",
    "fig.set_tight_layout(True)\n",
    "ax2.contour(X, Y, z,50)\n",
    "ax2.set_title('Stochastic gradient descent')\n",
    "ax2.set_xlabel('Theta1')\n",
    "ax2.set_ylabel('Theta0')\n",
    "X=[[1],[3],[6]]\n",
    "Y=[6,10,16]\n",
    "w_prior=0\n",
    "b_prior=0\n",
    "asdf,thetas= sgdRegression(X,Y,0.05)\n",
    "w_s=[i[1] for i in thetas]\n",
    "b_s=[i[0] for i in thetas]\n",
    "ax1.scatter(X, Y, color='grey', s=10)\n",
    "X=np.matrix(X)\n",
    "line, = ax1.plot(X, X*w_prior+b_prior, 'r-', linewidth=1)\n",
    "def update(i):\n",
    "    line.set_ydata(X*w_s[i]+b_s[i])\n",
    "    ax1.set_xlabel('Iteration '+str(i+1))\n",
    "    ax1.set_ylabel('Stochastic gradient descent fit')\n",
    "    if i!=69:\n",
    "        ax2.arrow(w_s[i],b_s[i],w_s[i+1]-w_s[i],b_s[i+1]-b_s[i],head_width=0.005, head_length=0.01, fc='k', ec='k')\n",
    "    else:\n",
    "        ax2.arrow(w_s[i],b_s[i],0,0,head_width=0.005, head_length=0.01, fc='k', ec='k')\n",
    "    return line, (ax1,ax2)\n",
    "anim = FuncAnimation(fig, update, frames=np.arange(0, 70), interval=1)\n",
    "anim.save('sgd_fit.gif', dpi=80,writer='pillow')\n",
    "plt.close()"
   ]
  },
  {
   "cell_type": "markdown",
   "metadata": {},
   "source": [
    "Part-(b)"
   ]
  },
  {
   "cell_type": "code",
   "execution_count": 205,
   "metadata": {},
   "outputs": [],
   "source": [
    "x = np.array(np.arange(-6, 9, 0.1))\n",
    "y = np.array(np.arange(-6, 9, 0.1))\n",
    "xnew = np.array([[1], [3], [6]])\n",
    "ynew = np.reshape(np.array([[6], [10], [16]]), (3,1))\n",
    "xnew = np.append(np.ones((3,1)), np.reshape(xnew, (3,1)), axis=1)\n",
    "X,Y = np.meshgrid(x, y, sparse=True)\n",
    "X = X.T\n",
    "z = np.zeros((X.shape[0], X.shape[0]))\n",
    "thetahat = np.zeros((2,1))\n",
    "for i in range(X.shape[0]):\n",
    "    for j in range(Y.shape[0]):\n",
    "        thetahat[0, 0] = X[i, 0]\n",
    "        thetahat[1, 0] = Y[j, 0]\n",
    "        z[i,j]=np.sum((xnew.dot(thetahat)-ynew)**2) \n",
    "X, Y = np.meshgrid(X, Y)\n",
    "fig, (ax1,ax2) = plt.subplots(1,2,figsize=(16, 8))\n",
    "fig.set_tight_layout(True)\n",
    "ax2.contour(X, Y, z,50)\n",
    "ax2.set_title('Coordinate gradient descent')\n",
    "ax2.set_xlabel('Theta1')\n",
    "ax2.set_ylabel('Theta0')\n",
    "X=[[1],[3],[6]]\n",
    "Y=[6,10,16]\n",
    "w_prior=0\n",
    "b_prior=0\n",
    "asdf,thetas= coordinateDescentRegression(X,Y)\n",
    "w_s=[i[1] for i in thetas]\n",
    "b_s=[i[0] for i in thetas]\n",
    "ax1.scatter(X, Y, color='grey', s=4)\n",
    "X=np.matrix(X)\n",
    "line, = ax1.plot(X, X*w_prior+b_prior, 'r-', linewidth=1)\n",
    "def update(i):\n",
    "    line.set_ydata(X*w_s[i]+b_s[i])\n",
    "    ax1.set_xlabel('Iteration '+str(i+1))\n",
    "    ax1.set_ylabel('Coordinate gradient descent fit')\n",
    "    if i!=49:\n",
    "        ax2.arrow(w_s[i],b_s[i],w_s[i+1]-w_s[i],b_s[i+1]-b_s[i],head_width=0.005, head_length=0.01, fc='k', ec='k')\n",
    "    else:\n",
    "        ax2.arrow(w_s[i],b_s[i],0,0,head_width=0.005, head_length=0.01, fc='k', ec='k')\n",
    "    format_axes(ax1)\n",
    "    format_axes(ax2)\n",
    "    return line, (ax1,ax2)\n",
    "anim = FuncAnimation(fig, update, frames=np.arange(0, 50), interval=1)\n",
    "anim.save('CD_fit2.gif', dpi=80,writer='pillow')\n",
    "plt.close()"
   ]
  },
  {
   "cell_type": "markdown",
   "metadata": {},
   "source": [
    "# 4th Ans"
   ]
  },
  {
   "cell_type": "markdown",
   "metadata": {},
   "source": [
    "Part-(a)"
   ]
  },
  {
   "cell_type": "code",
   "execution_count": 173,
   "metadata": {},
   "outputs": [
    {
     "name": "stdout",
     "output_type": "stream",
     "text": [
      "[0.19230769 0.38461538] 1.0961538461538463\n"
     ]
    },
    {
     "data": {
      "text/plain": [
       "1"
      ]
     },
     "execution_count": 173,
     "metadata": {},
     "output_type": "execute_result"
    }
   ],
   "source": [
    "X=[[1,2],[2,4],[3,6],[4,8]]\n",
    "y=[2,3,4,5]\n",
    "from sklearn import linear_model\n",
    "reg = linear_model.Ridge(alpha=1)\n",
    "reg.fit(X, y)\n",
    "print(reg.coef_,reg.intercept_)\n",
    "reg.alpha"
   ]
  },
  {
   "cell_type": "markdown",
   "metadata": {},
   "source": [
    "Part-(b)"
   ]
  },
  {
   "cell_type": "code",
   "execution_count": 206,
   "metadata": {},
   "outputs": [
    {
     "name": "stdout",
     "output_type": "stream",
     "text": [
      "Intercept: [[0.44705882]]\n",
      "Coefficeints: [[0.23529412]\n",
      " [0.47058824]]\n"
     ]
    },
    {
     "data": {
      "text/plain": [
       "matrix([[0.44705882],\n",
       "        [0.23529412],\n",
       "        [0.47058824]])"
      ]
     },
     "execution_count": 206,
     "metadata": {},
     "output_type": "execute_result"
    }
   ],
   "source": [
    "X=[[1,2],[2,4],[3,6],[4,8]]\n",
    "y=[2,3,4,5]\n",
    "lamda=1\n",
    "normalEquationRegression(X,y,lamda)"
   ]
  },
  {
   "cell_type": "markdown",
   "metadata": {},
   "source": [
    "# 5th Ans"
   ]
  },
  {
   "cell_type": "markdown",
   "metadata": {},
   "source": [
    "Part-(a): 5-fold cross validation for Ridge regression"
   ]
  },
  {
   "cell_type": "code",
   "execution_count": 2,
   "metadata": {},
   "outputs": [],
   "source": [
    "X=pd.read_csv('Real estate valuation data set.csv')\n",
    "y=X['Y house price of unit area']\n",
    "X=X.drop(['No'],axis=1)\n",
    "X=X.rename(index=str,columns={'X1 transaction date':\"x1\",'X2 house age':\"x2\",\"X3 distance to the nearest MRT station\":\"x3\",\"X4 number of convenience stores\":\n",
    "                           \"x4\",\"X5 latitude\":\"x5\",\"X6 longitude\":\"x6\",\"Y house price of unit area\":\"y\"})\n",
    "X=X.drop(['y'],axis=1)"
   ]
  },
  {
   "cell_type": "code",
   "execution_count": 3,
   "metadata": {},
   "outputs": [
    {
     "name": "stdout",
     "output_type": "stream",
     "text": [
      "Fold =  1 ------------------------------\n",
      "Optimal penalty coefficient:  0.30303030303030304\n",
      "Train error:  9.347148528029825\n",
      "Cross validation error:  9.151875923421883\n",
      "Test error:  7.310287790596093\n",
      "Fold =  2 ------------------------------\n",
      "Optimal penalty coefficient:  0.10101010101010101\n",
      "Train error:  8.985622397826464\n",
      "Cross validation error:  7.231718413381548\n",
      "Test error:  9.473984667249487\n",
      "Fold =  3 ------------------------------\n",
      "Optimal penalty coefficient:  0.30303030303030304\n",
      "Train error:  9.44121031014661\n",
      "Cross validation error:  8.208602416114228\n",
      "Test error:  7.603956458304765\n",
      "Fold =  4 ------------------------------\n",
      "Optimal penalty coefficient:  0.30303030303030304\n",
      "Train error:  8.12989513229204\n",
      "Cross validation error:  7.830821932311089\n",
      "Test error:  11.745127484028233\n",
      "Fold =  5 ------------------------------\n",
      "Optimal penalty coefficient:  0.30303030303030304\n",
      "Train error:  9.404119871051051\n",
      "Cross validation error:  8.109080175434437\n",
      "Test error:  7.8414875880881905\n"
     ]
    }
   ],
   "source": [
    "lamda=list(np.linspace(0,10,100))\n",
    "kf = KFold(n_splits=5,random_state=7)\n",
    "kf.get_n_splits(X)\n",
    "fold=0\n",
    "for train_index, test_index in kf.split(X):\n",
    "    print('Fold = ',fold+1,'-'*30)\n",
    "    fold+=1\n",
    "    X_train, X_test = X.iloc[train_index], X.iloc[test_index]\n",
    "    y_train, y_test = y[train_index], y[test_index]\n",
    "    X_train, X_val, y_train, y_val = train_test_split(X_train, y_train, test_size=0.20, random_state=7)\n",
    "    lamdanew=1\n",
    "    verror=10000000000\n",
    "    for i in lamda:\n",
    "        model = Ridge(alpha=i,normalize=True)\n",
    "        model.fit(X_train, y_train)\n",
    "        yhat=model.predict(X_val)\n",
    "        val_error=mean_squared_error(yhat,y_val)\n",
    "        if val_error<verror:\n",
    "            lamdanew=i\n",
    "            score=val_error**0.5\n",
    "            verror=val_error\n",
    "    model=Ridge(alpha=lamdanew,normalize=True)\n",
    "    model.fit(X_train,y_train)\n",
    "    train_error=mean_squared_error(y_train,model.predict(X_train))**0.5\n",
    "    test_error=mean_squared_error(y_test,model.predict(X_test))**0.5\n",
    "    print('Optimal penalty coefficient: ',lamdanew)\n",
    "    print('Train error: ',train_error)\n",
    "    print('Cross validation error: ',score)\n",
    "    print('Test error: ',test_error)"
   ]
  },
  {
   "cell_type": "markdown",
   "metadata": {},
   "source": [
    "Part-(b): 5 fold cross validation for Lasso regression"
   ]
  },
  {
   "cell_type": "code",
   "execution_count": 177,
   "metadata": {},
   "outputs": [],
   "source": [
    "X=pd.read_csv('Real estate valuation data set.csv')\n",
    "y=X['Y house price of unit area']\n",
    "X=X.drop(['No'],axis=1)\n",
    "X=X.rename(index=str,columns={'X1 transaction date':\"x1\",'X2 house age':\"x2\",\"X3 distance to the nearest MRT station\":\"x3\",\"X4 number of convenience stores\":\n",
    "                           \"x4\",\"X5 latitude\":\"x5\",\"X6 longitude\":\"x6\",\"Y house price of unit area\":\"y\"})\n",
    "X=X.drop(['y'],axis=1)"
   ]
  },
  {
   "cell_type": "code",
   "execution_count": 178,
   "metadata": {},
   "outputs": [
    {
     "name": "stdout",
     "output_type": "stream",
     "text": [
      "Fold =  1 ------------------------------\n"
     ]
    },
    {
     "name": "stderr",
     "output_type": "stream",
     "text": [
      "C:\\Users\\rendl\\Anaconda2\\envs\\py36\\lib\\site-packages\\ipykernel_launcher.py:15: UserWarning: With alpha=0, this algorithm does not converge well. You are advised to use the LinearRegression estimator\n",
      "  from ipykernel import kernelapp as app\n",
      "C:\\Users\\rendl\\Anaconda2\\envs\\py36\\lib\\site-packages\\sklearn\\linear_model\\coordinate_descent.py:478: UserWarning: Coordinate descent with no regularization may lead to unexpected results and is discouraged.\n",
      "  positive)\n",
      "C:\\Users\\rendl\\Anaconda2\\envs\\py36\\lib\\site-packages\\sklearn\\linear_model\\coordinate_descent.py:492: ConvergenceWarning: Objective did not converge. You might want to increase the number of iterations. Fitting data with very small alpha may cause precision problems.\n",
      "  ConvergenceWarning)\n"
     ]
    },
    {
     "name": "stdout",
     "output_type": "stream",
     "text": [
      "Optimal penalty coefficient:  0.0\n",
      "Train error:  9.190444965603504\n",
      "Cross validation error:  9.26433006438894\n",
      "Test error:  7.12361347135283\n",
      "Fold =  2 ------------------------------\n",
      "Optimal penalty coefficient:  0.0\n",
      "Train error:  8.9522302656328\n",
      "Cross validation error:  7.246515976446366\n",
      "Test error:  9.482604912328624\n",
      "Fold =  3 ------------------------------\n"
     ]
    },
    {
     "name": "stderr",
     "output_type": "stream",
     "text": [
      "C:\\Users\\rendl\\Anaconda2\\envs\\py36\\lib\\site-packages\\ipykernel_launcher.py:15: UserWarning: With alpha=0, this algorithm does not converge well. You are advised to use the LinearRegression estimator\n",
      "  from ipykernel import kernelapp as app\n",
      "C:\\Users\\rendl\\Anaconda2\\envs\\py36\\lib\\site-packages\\sklearn\\linear_model\\coordinate_descent.py:478: UserWarning: Coordinate descent with no regularization may lead to unexpected results and is discouraged.\n",
      "  positive)\n",
      "C:\\Users\\rendl\\Anaconda2\\envs\\py36\\lib\\site-packages\\sklearn\\linear_model\\coordinate_descent.py:492: ConvergenceWarning: Objective did not converge. You might want to increase the number of iterations. Fitting data with very small alpha may cause precision problems.\n",
      "  ConvergenceWarning)\n",
      "C:\\Users\\rendl\\Anaconda2\\envs\\py36\\lib\\site-packages\\ipykernel_launcher.py:15: UserWarning: With alpha=0, this algorithm does not converge well. You are advised to use the LinearRegression estimator\n",
      "  from ipykernel import kernelapp as app\n",
      "C:\\Users\\rendl\\Anaconda2\\envs\\py36\\lib\\site-packages\\sklearn\\linear_model\\coordinate_descent.py:478: UserWarning: Coordinate descent with no regularization may lead to unexpected results and is discouraged.\n",
      "  positive)\n",
      "C:\\Users\\rendl\\Anaconda2\\envs\\py36\\lib\\site-packages\\sklearn\\linear_model\\coordinate_descent.py:492: ConvergenceWarning: Objective did not converge. You might want to increase the number of iterations. Fitting data with very small alpha may cause precision problems.\n",
      "  ConvergenceWarning)\n",
      "C:\\Users\\rendl\\Anaconda2\\envs\\py36\\lib\\site-packages\\ipykernel_launcher.py:15: UserWarning: With alpha=0, this algorithm does not converge well. You are advised to use the LinearRegression estimator\n",
      "  from ipykernel import kernelapp as app\n"
     ]
    },
    {
     "name": "stdout",
     "output_type": "stream",
     "text": [
      "Optimal penalty coefficient:  0.0\n",
      "Train error:  9.275553343157036\n",
      "Cross validation error:  8.294451030975793\n",
      "Test error:  7.579925029213667\n",
      "Fold =  4 ------------------------------\n"
     ]
    },
    {
     "name": "stderr",
     "output_type": "stream",
     "text": [
      "C:\\Users\\rendl\\Anaconda2\\envs\\py36\\lib\\site-packages\\sklearn\\linear_model\\coordinate_descent.py:478: UserWarning: Coordinate descent with no regularization may lead to unexpected results and is discouraged.\n",
      "  positive)\n",
      "C:\\Users\\rendl\\Anaconda2\\envs\\py36\\lib\\site-packages\\sklearn\\linear_model\\coordinate_descent.py:492: ConvergenceWarning: Objective did not converge. You might want to increase the number of iterations. Fitting data with very small alpha may cause precision problems.\n",
      "  ConvergenceWarning)\n"
     ]
    },
    {
     "name": "stdout",
     "output_type": "stream",
     "text": [
      "Optimal penalty coefficient:  0.0\n",
      "Train error:  7.965337315985136\n",
      "Cross validation error:  7.9894676436839145\n",
      "Test error:  11.605706848543027\n",
      "Fold =  5 ------------------------------\n"
     ]
    },
    {
     "name": "stderr",
     "output_type": "stream",
     "text": [
      "C:\\Users\\rendl\\Anaconda2\\envs\\py36\\lib\\site-packages\\ipykernel_launcher.py:15: UserWarning: With alpha=0, this algorithm does not converge well. You are advised to use the LinearRegression estimator\n",
      "  from ipykernel import kernelapp as app\n",
      "C:\\Users\\rendl\\Anaconda2\\envs\\py36\\lib\\site-packages\\sklearn\\linear_model\\coordinate_descent.py:478: UserWarning: Coordinate descent with no regularization may lead to unexpected results and is discouraged.\n",
      "  positive)\n",
      "C:\\Users\\rendl\\Anaconda2\\envs\\py36\\lib\\site-packages\\sklearn\\linear_model\\coordinate_descent.py:492: ConvergenceWarning: Objective did not converge. You might want to increase the number of iterations. Fitting data with very small alpha may cause precision problems.\n",
      "  ConvergenceWarning)\n"
     ]
    },
    {
     "name": "stdout",
     "output_type": "stream",
     "text": [
      "Optimal penalty coefficient:  0.0\n",
      "Train error:  9.264292067518877\n",
      "Cross validation error:  8.254937937660602\n",
      "Test error:  7.756834913788581\n"
     ]
    }
   ],
   "source": [
    "lamda=list(np.linspace(0,10,100))\n",
    "kf = KFold(n_splits=5)\n",
    "kf.get_n_splits(X)\n",
    "fold=0\n",
    "for train_index, test_index in kf.split(X):\n",
    "    print('Fold = ',fold+1,'-'*30)\n",
    "    fold+=1\n",
    "    X_train, X_test = X.iloc[train_index], X.iloc[test_index]\n",
    "    y_train, y_test = y[train_index], y[test_index]\n",
    "    X_train, X_val, y_train, y_val = train_test_split(X_train, y_train, test_size=0.20, random_state=7)\n",
    "    lamdanew=1\n",
    "    verror=10000000000\n",
    "    for i in lamda:\n",
    "        model = Lasso(alpha=i,normalize=True)\n",
    "        model.fit(X_train, y_train)\n",
    "        yhat=model.predict(X_val)\n",
    "        val_error=mean_squared_error(yhat,y_val)\n",
    "        if val_error<verror:\n",
    "            lamdanew=i\n",
    "            score=val_error**0.5\n",
    "            verror=val_error\n",
    "    model=Ridge(alpha=lamdanew,normalize=True)\n",
    "    model.fit(X_train,y_train)\n",
    "    train_error=mean_squared_error(y_train,model.predict(X_train))**0.5\n",
    "    test_error=mean_squared_error(y_test,model.predict(X_test))**0.5\n",
    "    print('Optimal penalty coefficient: ',lamdanew)\n",
    "    print('Train error: ',train_error)\n",
    "    print('Cross validation error: ',score)\n",
    "    print('Test error: ',test_error)"
   ]
  },
  {
   "cell_type": "markdown",
   "metadata": {},
   "source": [
    "Part-(c): Regularisation path for Lasso and Ridge regression"
   ]
  },
  {
   "cell_type": "code",
   "execution_count": 207,
   "metadata": {},
   "outputs": [],
   "source": [
    "X=pd.read_csv('Real estate valuation data set.csv')\n",
    "y=X['Y house price of unit area']\n",
    "X=X.drop(['No'],axis=1)\n",
    "X=X.rename(index=str,columns={'X1 transaction date':\"x1\",'X2 house age':\"x2\",\"X3 distance to the nearest MRT station\":\"x3\",\"X4 number of convenience stores\":\n",
    "                           \"x4\",\"X5 latitude\":\"x5\",\"X6 longitude\":\"x6\",\"Y house price of unit area\":\"y\"})\n",
    "X=X.drop([\"x1\",'y'],axis=1)"
   ]
  },
  {
   "cell_type": "markdown",
   "metadata": {},
   "source": [
    "Lasso regression"
   ]
  },
  {
   "cell_type": "code",
   "execution_count": 208,
   "metadata": {},
   "outputs": [
    {
     "name": "stderr",
     "output_type": "stream",
     "text": [
      "C:\\Users\\rendl\\Anaconda2\\envs\\py36\\lib\\site-packages\\ipykernel_launcher.py:11: UserWarning: With alpha=0, this algorithm does not converge well. You are advised to use the LinearRegression estimator\n",
      "  # This is added back by InteractiveShellApp.init_path()\n",
      "C:\\Users\\rendl\\Anaconda2\\envs\\py36\\lib\\site-packages\\sklearn\\linear_model\\coordinate_descent.py:478: UserWarning: Coordinate descent with no regularization may lead to unexpected results and is discouraged.\n",
      "  positive)\n",
      "C:\\Users\\rendl\\Anaconda2\\envs\\py36\\lib\\site-packages\\sklearn\\linear_model\\coordinate_descent.py:492: ConvergenceWarning: Objective did not converge. You might want to increase the number of iterations. Fitting data with very small alpha may cause precision problems.\n",
      "  ConvergenceWarning)\n"
     ]
    },
    {
     "data": {
      "image/png": "[encoded data removed]",
      "text/plain": [
       "<Figure size 640x1120 with 6 Axes>"
      ]
     },
     "metadata": {},
     "output_type": "display_data"
    }
   ],
   "source": [
    "fig=pylab.figure(figsize=(8, 14), dpi= 80, facecolor='w', edgecolor='k')\n",
    "lamda=list(np.linspace(0,10,100))\n",
    "theta1=[]\n",
    "theta2=[]\n",
    "theta3=[]\n",
    "theta4=[]\n",
    "theta5=[]\n",
    "theta6=[]\n",
    "for i in lamda:\n",
    "    model = Lasso(alpha=i,normalize=True)\n",
    "    model.fit(X, y)\n",
    "    theta1=theta1+[model.intercept_]\n",
    "    j =list(model.coef_)\n",
    "    theta2=theta2+[j[0]]\n",
    "    theta3=theta3+[j[1]]\n",
    "    theta4=theta4+[j[2]]\n",
    "    theta5=theta5+[j[3]]\n",
    "    theta6=theta6+[j[4]]\n",
    "pylab.subplot(6,1,1)\n",
    "pylab.plot(lamda,theta1,'-r')\n",
    "pylab.xlabel('lambda-values')\n",
    "pylab.ylabel('theta1')\n",
    "pylab.subplot(6,1,2)\n",
    "pylab.plot(lamda,theta2,'-b')\n",
    "pylab.xlabel('lambda-values')\n",
    "pylab.ylabel('theta2')\n",
    "pylab.subplot(6,1,3)\n",
    "pylab.plot(lamda,theta3,'-g')\n",
    "pylab.xlabel('lambda-values')\n",
    "pylab.ylabel('theta3')\n",
    "pylab.subplot(6,1,4)\n",
    "pylab.plot(lamda,theta4,'-y')\n",
    "pylab.xlabel('lambda-values')\n",
    "pylab.ylabel('theta4')\n",
    "pylab.subplot(6,1,5)\n",
    "pylab.plot(lamda,theta5,'-r')\n",
    "pylab.xlabel('lambda-values')\n",
    "pylab.ylabel('theta5')\n",
    "pylab.subplot(6,1,6)\n",
    "pylab.plot(lamda,theta6,'-b')\n",
    "pylab.xlabel('lambda-values')\n",
    "pylab.ylabel('theta6')\n",
    "pylab.show()"
   ]
  },
  {
   "cell_type": "markdown",
   "metadata": {},
   "source": [
    "Ridge regression"
   ]
  },
  {
   "cell_type": "code",
   "execution_count": 188,
   "metadata": {},
   "outputs": [
    {
     "data": {
      "image/png": "[encoded data removed]",
      "text/plain": [
       "<Figure size 640x1120 with 6 Axes>"
      ]
     },
     "metadata": {},
     "output_type": "display_data"
    }
   ],
   "source": [
    "fig=pylab.figure(figsize=(8, 14), dpi= 80, facecolor='w', edgecolor='k')\n",
    "lamda=list(np.linspace(0,10,100))\n",
    "theta1=[]\n",
    "theta2=[]\n",
    "theta3=[]\n",
    "theta4=[]\n",
    "theta5=[]\n",
    "theta6=[]\n",
    "for i in lamda:\n",
    "    model = Ridge(alpha=i,normalize=True)\n",
    "    model.fit(X, y)\n",
    "    theta1=theta1+[model.intercept_]\n",
    "    j =list(model.coef_)\n",
    "    theta2=theta2+[j[0]]\n",
    "    theta3=theta3+[j[1]]\n",
    "    theta4=theta4+[j[2]]\n",
    "    theta5=theta5+[j[3]]\n",
    "    theta6=theta6+[j[4]]\n",
    "pylab.subplot(6,1,1)\n",
    "pylab.plot(lamda,theta1,'-r')\n",
    "pylab.xlabel('lambda-values')\n",
    "pylab.ylabel('theta1')\n",
    "pylab.subplot(6,1,2)\n",
    "pylab.plot(lamda,theta2,'-b')\n",
    "pylab.xlabel('lambda-values')\n",
    "pylab.ylabel('theta2')\n",
    "pylab.subplot(6,1,3)\n",
    "pylab.plot(lamda,theta3,'-g')\n",
    "pylab.xlabel('lambda-values')\n",
    "pylab.ylabel('theta3')\n",
    "pylab.subplot(6,1,4)\n",
    "pylab.plot(lamda,theta4,'-y')\n",
    "pylab.xlabel('lambda-values')\n",
    "pylab.ylabel('theta4')\n",
    "pylab.subplot(6,1,5)\n",
    "pylab.plot(lamda,theta5,'-r')\n",
    "pylab.xlabel('lambda-values')\n",
    "pylab.ylabel('theta5')\n",
    "pylab.subplot(6,1,6)\n",
    "pylab.plot(lamda,theta6,'-b')\n",
    "pylab.xlabel('lambda-values')\n",
    "pylab.ylabel('theta6')\n",
    "pylab.show()"
   ]
  },
  {
   "cell_type": "markdown",
   "metadata": {},
   "source": [
    "Part-(d): Train and test error for Lasso and Ridge regression"
   ]
  },
  {
   "cell_type": "markdown",
   "metadata": {},
   "source": [
    "Lasso regression"
   ]
  },
  {
   "cell_type": "code",
   "execution_count": 162,
   "metadata": {},
   "outputs": [],
   "source": [
    "X=pd.read_csv('Real estate valuation data set.csv')\n",
    "y=X['Y house price of unit area']\n",
    "X=X.drop(['No'],axis=1)\n",
    "X=X.rename(index=str,columns={'X1 transaction date':\"x1\",'X2 house age':\"x2\",\"X3 distance to the nearest MRT station\":\"x3\",\"X4 number of convenience stores\":\n",
    "                           \"x4\",\"X5 latitude\":\"x5\",\"X6 longitude\":\"x6\",\"Y house price of unit area\":\"y\"})\n",
    "X=X.drop([\"x1\",'y'],axis=1)"
   ]
  },
  {
   "cell_type": "code",
   "execution_count": 163,
   "metadata": {},
   "outputs": [
    {
     "name": "stderr",
     "output_type": "stream",
     "text": [
      "C:\\Users\\rendl\\Anaconda2\\envs\\py36\\lib\\site-packages\\ipykernel_launcher.py:10: UserWarning: With alpha=0, this algorithm does not converge well. You are advised to use the LinearRegression estimator\n",
      "  # Remove the CWD from sys.path while we load stuff.\n",
      "C:\\Users\\rendl\\Anaconda2\\envs\\py36\\lib\\site-packages\\sklearn\\linear_model\\coordinate_descent.py:478: UserWarning: Coordinate descent with no regularization may lead to unexpected results and is discouraged.\n",
      "  positive)\n",
      "C:\\Users\\rendl\\Anaconda2\\envs\\py36\\lib\\site-packages\\sklearn\\linear_model\\coordinate_descent.py:492: ConvergenceWarning: Objective did not converge. You might want to increase the number of iterations. Fitting data with very small alpha may cause precision problems.\n",
      "  ConvergenceWarning)\n"
     ]
    },
    {
     "data": {
      "image/png": "[encoded data removed]",
      "text/plain": [
       "<Figure size 640x960 with 1 Axes>"
      ]
     },
     "metadata": {},
     "output_type": "display_data"
    }
   ],
   "source": [
    "fig=pylab.figure(figsize=(8, 12), dpi= 80, facecolor='w', edgecolor='k')\n",
    "lamda=list(np.linspace(0,10,100))\n",
    "X_train, X_test, y_train, y_test = train_test_split(X, y, test_size=0.20, random_state=7)\n",
    "lamdanew=1\n",
    "verror=10000000000\n",
    "errors=[]\n",
    "errors2=[]\n",
    "for i in lamda:\n",
    "    model = Lasso(alpha=i,normalize=True)\n",
    "    model.fit(X_train, y_train)\n",
    "    yhat2=model.predict(X_train)\n",
    "    yhat=model.predict(X_test)\n",
    "    val_error=mean_squared_error(yhat,y_test)\n",
    "    val_error2=mean_squared_error(yhat2,y_train)\n",
    "    errors=errors+[val_error**0.5]\n",
    "    errors2=errors2+[val_error2**0.5]\n",
    "pylab.subplot(2,1,1)\n",
    "pylab.plot(lamda,errors,'-')\n",
    "pylab.xlabel('Lambda values')\n",
    "# pylab.ylabel('TEST RMSE error')\n",
    "# pylab.subplot(2,1,2)\n",
    "pylab.plot(lamda,errors2,'-',color='orangered')\n",
    "# pylab.xlabel('Lambda values')\n",
    "pylab.ylabel('Train and Test RMSE error')\n",
    "pylab.legend(('Test error','Train error'),loc='upper left')\n",
    "ax=pylab.gca()\n",
    "ax.set_ylim(5,16)\n",
    "ax.set_xlim(-2,12)\n",
    "pylab.show()"
   ]
  },
  {
   "cell_type": "markdown",
   "metadata": {},
   "source": [
    "Ridge regression"
   ]
  },
  {
   "cell_type": "code",
   "execution_count": 79,
   "metadata": {},
   "outputs": [],
   "source": [
    "X=pd.read_csv('Real estate valuation data set.csv')\n",
    "y=X['Y house price of unit area']\n",
    "X=X.drop(['No'],axis=1)\n",
    "X=X.rename(index=str,columns={'X1 transaction date':\"x1\",'X2 house age':\"x2\",\"X3 distance to the nearest MRT station\":\"x3\",\"X4 number of convenience stores\":\n",
    "                           \"x4\",\"X5 latitude\":\"x5\",\"X6 longitude\":\"x6\",\"Y house price of unit area\":\"y\"})\n",
    "X=X.drop(['y'],axis=1)"
   ]
  },
  {
   "cell_type": "code",
   "execution_count": 80,
   "metadata": {
    "scrolled": true
   },
   "outputs": [
    {
     "data": {
      "image/png": "[encoded data removed]",
      "text/plain": [
       "<Figure size 640x960 with 1 Axes>"
      ]
     },
     "metadata": {},
     "output_type": "display_data"
    }
   ],
   "source": [
    "fig=pylab.figure(figsize=(8, 12), dpi= 80, facecolor='w', edgecolor='k')\n",
    "lamda=list(np.linspace(0,10,100))\n",
    "X_train, X_test, y_train, y_test = train_test_split(X, y, test_size=0.20, random_state=7)\n",
    "lamdanew=1\n",
    "verror=10000000000\n",
    "errors=[]\n",
    "errors2=[]\n",
    "for i in lamda:\n",
    "    model = Ridge(alpha=i,normalize=True)\n",
    "    model.fit(X_train, y_train)\n",
    "    yhat2=model.predict(X_train)\n",
    "    yhat=model.predict(X_test)\n",
    "    val_error=mean_squared_error(yhat,y_test)\n",
    "    val_error2=mean_squared_error(yhat2,y_train)\n",
    "    errors=errors+[val_error**0.5]\n",
    "    errors2=errors2+[val_error2**0.5]\n",
    "pylab.subplot(2,1,1)\n",
    "pylab.plot(lamda,errors,'-')\n",
    "pylab.xlabel('Lambda values')\n",
    "# pylab.ylabel('TEST RMSE error')\n",
    "# pylab.subplot(2,1,2)\n",
    "pylab.plot(lamda,errors2,'-',color='orangered')\n",
    "# pylab.xlabel('Lambda values')\n",
    "pylab.ylabel('Train and Test RMSE error')\n",
    "pylab.legend(('Test error','Train error'),loc='upper left')\n",
    "ax=pylab.gca()\n",
    "ax.set_ylim(5,16)\n",
    "ax.set_xlim(-2,12)\n",
    "pylab.show()"
   ]
  }
 ],
 "metadata": {
  "kernelspec": {
   "display_name": "Python 3",
   "language": "python",
   "name": "python3"
  },
  "language_info": {
   "codemirror_mode": {
    "name": "ipython",
    "version": 3
   },
   "file_extension": ".py",
   "mimetype": "text/x-python",
   "name": "python",
   "nbconvert_exporter": "python",
   "pygments_lexer": "ipython3",
   "version": "3.6.8"
  }
 },
 "nbformat": 4,
 "nbformat_minor": 2
}
